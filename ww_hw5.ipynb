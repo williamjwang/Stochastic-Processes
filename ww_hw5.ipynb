{
 "cells": [
  {
   "cell_type": "markdown",
   "id": "127aa40d-e2e8-4af2-a39b-9cfe789eb603",
   "metadata": {},
   "source": [
    "# William Wang Math 478 HW 5"
   ]
  },
  {
   "cell_type": "code",
   "execution_count": 1,
   "id": "cc3d45b1-63d9-44bd-b8ba-a6cf2a54cb4c",
   "metadata": {},
   "outputs": [],
   "source": [
    "import numpy as np\n",
    "import matplotlib.pyplot as plt"
   ]
  },
  {
   "cell_type": "code",
   "execution_count": 2,
   "id": "21b17316-f6e4-4aa2-8d61-eb41eb4c2fff",
   "metadata": {},
   "outputs": [
    {
     "name": "stdout",
     "output_type": "stream",
     "text": [
      "Simulated average number of times until 2 successes:  6.0017\n",
      "Theoretical number of times until 2 successes:  6.0\n",
      "As you can see, they are very close!\n"
     ]
    }
   ],
   "source": [
    "#1.\n",
    "\n",
    "def theoretical_expected(p):\n",
    "    return (1/p) + (1/p**2)\n",
    "\n",
    "def simulate_until_2_consecutive_heads(p):\n",
    "    previous = 0\n",
    "    current = 0\n",
    "    count = 0\n",
    "    while (previous == 0 or current == 0):\n",
    "        previous = current\n",
    "        temp = np.random.uniform(0,1)\n",
    "        count += 1\n",
    "        if temp < p:\n",
    "            current = 1\n",
    "        else:\n",
    "            current = 0\n",
    "    return count\n",
    "\n",
    "def simulateNTimes(N, p):\n",
    "    sum = 0\n",
    "    for i in range(N):\n",
    "        sum += simulate_until_2_consecutive_heads(p)\n",
    "    return sum/N\n",
    "    \n",
    "print(\"Simulated average number of times until 2 successes: \", simulateNTimes(10000,1/2))\n",
    "print(\"Theoretical number of times until 2 successes: \", theoretical_expected(1/2))\n",
    "print(\"As you can see, they are very close!\")"
   ]
  },
  {
   "cell_type": "code",
   "execution_count": 3,
   "id": "e06ee64a-fbcf-406c-b771-f64729746a43",
   "metadata": {},
   "outputs": [
    {
     "name": "stdout",
     "output_type": "stream",
     "text": [
      "Simulated value of E[Y]:  6.016187500364003\n",
      "Theoretical value of E[Y]:  6\n",
      "As you can see, they are very close!\n"
     ]
    }
   ],
   "source": [
    "#2.\n",
    "\n",
    "def theoretical_expected(L1, L2):\n",
    "    return L1 * L2\n",
    "def simulation(L1, L2):\n",
    "    N = np.random.poisson(L2)\n",
    "    X = np.random.exponential(L1, N)\n",
    "    sum = 0\n",
    "    for x in X:\n",
    "        sum += x\n",
    "    return sum\n",
    "\n",
    "def N_simulations(N, L1, L2):\n",
    "    sum = 0\n",
    "    for i in range(N):\n",
    "        sum += simulation(L1, L2)\n",
    "    return sum/N\n",
    "\n",
    "print(\"Simulated value of E[Y]: \", N_simulations(10000, 2, 3))\n",
    "print(\"Theoretical value of E[Y]: \", theoretical_expected(2,3))\n",
    "print(\"As you can see, they are very close!\")"
   ]
  },
  {
   "cell_type": "code",
   "execution_count": 4,
   "id": "72c0fea2-e74d-422b-92ed-7cb208c5a0ec",
   "metadata": {},
   "outputs": [
    {
     "name": "stdout",
     "output_type": "stream",
     "text": [
      "Average N:  6.039\n",
      "Average X:  2.99987789\n",
      "We know that the expected value of N~Poisson(L) is L, and the expected value of X~Poisson(Lp) is L*p, meaning the above makes sense.\n"
     ]
    }
   ],
   "source": [
    "#3.\n",
    "\n",
    "def simulateNandX(numTrials, L, p):\n",
    "    N = np.random.poisson(L, numTrials)\n",
    "    X = np.random.poisson(L*p, len(N)*numTrials)\n",
    "    sumN = 0\n",
    "    for n in N:\n",
    "        sumN += n\n",
    "    print(\"Average N: \", sumN/len(N))\n",
    "    sumX = 0\n",
    "    for x in X:\n",
    "        sumX += x\n",
    "    print(\"Average X: \", sumX/len(X))\n",
    "    \n",
    "simulateNandX(10000, 6, 1/2)\n",
    "print(\"We know that the expected value of N~Poisson(L) is L, and the expected value of X~Poisson(Lp) is L*p, meaning the above makes sense.\")"
   ]
  }
 ],
 "metadata": {
  "kernelspec": {
   "display_name": "Python 3",
   "language": "python",
   "name": "python3"
  },
  "language_info": {
   "codemirror_mode": {
    "name": "ipython",
    "version": 3
   },
   "file_extension": ".py",
   "mimetype": "text/x-python",
   "name": "python",
   "nbconvert_exporter": "python",
   "pygments_lexer": "ipython3",
   "version": "3.8.8"
  }
 },
 "nbformat": 4,
 "nbformat_minor": 5
}
