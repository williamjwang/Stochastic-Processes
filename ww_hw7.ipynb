{
 "cells": [
  {
   "cell_type": "markdown",
   "id": "4b7073d6-1bda-4fc4-a23c-c43a131477ec",
   "metadata": {},
   "source": [
    "# William Wang Math 478 HW 7"
   ]
  },
  {
   "cell_type": "code",
   "execution_count": 1,
   "id": "78686ae7-574d-4e66-be11-75c2dfc624e3",
   "metadata": {},
   "outputs": [],
   "source": [
    "import numpy as np\n",
    "from numpy.linalg import matrix_power"
   ]
  },
  {
   "cell_type": "code",
   "execution_count": 2,
   "id": "862f4059-b599-4ca8-847e-1e1d01b47098",
   "metadata": {},
   "outputs": [
    {
     "name": "stdout",
     "output_type": "stream",
     "text": [
      "Simulated probability of P(X3 = 1, X5 = 3):  0.0385\n",
      "Theoretical probability of P(X3 = 1, X5 = 3):  0.038642062500000005\n",
      "These values seem pretty close!\n",
      "Simulated probability of P(X3 = 1, X5 = 3, X9 = 0):  0.0119\n",
      "Theoretical probability of P(X3 = 1, X5 = 3, X9 = 0):  0.012110905413281253\n"
     ]
    }
   ],
   "source": [
    "#1.\n",
    "\n",
    "P = [[0.40, 0.2, 0.3, 0.1],\n",
    "     [0.4, 0.4, 0.1, 0.1],\n",
    "     [0.25, 0.25, 0.25, 0.25],\n",
    "     [0.1, 0.3, 0.3, 0.3]]\n",
    "\n",
    "S = [0, 1, 2, 3]\n",
    "P0 = [0.25, 0.25, 0.3, 0.2]\n",
    "\n",
    "#sample size may need to be small due to space efficiency\n",
    "sample_size = 10000\n",
    "X = np.zeros([sample_size,10])\n",
    "\n",
    "for i in range(0,sample_size):\n",
    "    for j in range(1,10):\n",
    "        X[i,j] = np.random.choice(S, 1, p = P[int(X[i,j-1])])[0]\n",
    "\n",
    "        \n",
    "#1a\n",
    "#Loop through the 2d array and increment the count if X3 = 1 and X5 = 3 for each path\n",
    "count = 0\n",
    "for i in range(0, sample_size):\n",
    "    if (X[i][3] == 1) and (X[i][5] == 3):\n",
    "        count += 1\n",
    "print(\"Simulated probability of P(X3 = 1, X5 = 3): \", count/sample_size)\n",
    "\n",
    "\n",
    "#1b\n",
    "#P(X3 = 1, X5 = 3) = P(X5 = 3 | X3 = 1) * P(X3 = 1)\n",
    "# = (P0 * P^3)[1] * P^2[1][3]\n",
    "print(\"Theoretical probability of P(X3 = 1, X5 = 3): \", np.dot(P0, matrix_power(P,3))[1]  * matrix_power(P,2)[1][3])\n",
    "\n",
    "\n",
    "#1c\n",
    "print(\"These values seem pretty close!\")\n",
    "\n",
    "\n",
    "#1d\n",
    "#Loop through the 2d array and increment the count if X3 = 1, X5 = 3, and X9 = 0 for each path\n",
    "count = 0\n",
    "for i in range(0, sample_size):\n",
    "    if (X[i][3] == 1) and (X[i][5] == 3) and (X[i][9] == 0):\n",
    "        count += 1\n",
    "print(\"Simulated probability of P(X3 = 1, X5 = 3, X9 = 0): \", count/sample_size)\n",
    "\n",
    "#P(X3 = 1, X3 = 5, X9 = 0) = P(X9 = 0 | X5 = 3, X3 = 1) * P(X5 = 3, X3 = 1)\n",
    "# = P(X9 = 0 | X5 = 3) * [(P0 * P^3)[1] * P^2[1][3]]\n",
    "# = P^4[3][0] * (P0 * P^3)[1] * P^2[1][3]\n",
    "theoretical_prob = matrix_power(P,4)[3][0] * np.dot(P0, matrix_power(P,3))[1]  * matrix_power(P,2)[1][3]\n",
    "print(\"Theoretical probability of P(X3 = 1, X5 = 3, X9 = 0): \", theoretical_prob)"
   ]
  },
  {
   "cell_type": "code",
   "execution_count": 3,
   "id": "b447b94a-f509-4a69-897f-16a5cd40c5f5",
   "metadata": {},
   "outputs": [
    {
     "name": "stdout",
     "output_type": "stream",
     "text": [
      "Since state 0 appears to be the absorption state, the distribution of the chain at a high time should be skewed towards state 0.\n",
      "Theoretical distribution of X20:  [9.99812541e-01 8.59722351e-05 1.01486821e-04]\n",
      "Simulated distribution of the chain after 5 steps:  [0.999 0.001 0.   ]\n"
     ]
    }
   ],
   "source": [
    "#2.\n",
    "\n",
    "P = [[1, 0, 0],\n",
    "    [0.4, 0.3, 0.3],\n",
    "    [0.3, 0.3, 0.4]]\n",
    "\n",
    "S = [0,1,2]\n",
    "P0 = [0, 1, 0]\n",
    "\n",
    "#2a\n",
    "print(\"Since state 0 appears to be the absorption state, the distribution of the chain at a high time should be skewed towards state 0.\")\n",
    "\n",
    "\n",
    "#2b\n",
    "theoretical_prob = np.dot(P0, matrix_power(P,20))\n",
    "print(\"Theoretical distribution of X20: \", theoretical_prob)\n",
    "\n",
    "\n",
    "#2c\n",
    "sample_size = 1000\n",
    "\n",
    "X = np.random.choice(S, sample_size, p = P0)\n",
    "\n",
    "# Generate the rest of the steps from 1 to 5, only keeping current state\n",
    "for j in range(1,21):\n",
    "    X[0] = 1\n",
    "    for i in range(1,sample_size):\n",
    "        X[i] = np.random.choice(S, 1, p = P[int(X[i])])[0]\n",
    "        \n",
    "P20_simul = [(X == i).sum()/sample_size for i in S]\n",
    "print(\"Simulated distribution of the chain after 5 steps: \", np.round(P20_simul,20))"
   ]
  }
 ],
 "metadata": {
  "kernelspec": {
   "display_name": "Python 3",
   "language": "python",
   "name": "python3"
  },
  "language_info": {
   "codemirror_mode": {
    "name": "ipython",
    "version": 3
   },
   "file_extension": ".py",
   "mimetype": "text/x-python",
   "name": "python",
   "nbconvert_exporter": "python",
   "pygments_lexer": "ipython3",
   "version": "3.8.8"
  }
 },
 "nbformat": 4,
 "nbformat_minor": 5
}
