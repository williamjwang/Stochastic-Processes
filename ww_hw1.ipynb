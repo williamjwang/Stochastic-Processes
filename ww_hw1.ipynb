{
 "cells": [
  {
   "cell_type": "markdown",
   "id": "979a3a1e-2aa2-4ff8-ba85-248d90736326",
   "metadata": {},
   "source": [
    "# William Wang Math 478 HW 1"
   ]
  },
  {
   "cell_type": "code",
   "execution_count": 14,
   "id": "aedbe178-6123-4946-9549-6beacb1a7b15",
   "metadata": {},
   "outputs": [
    {
     "name": "stdout",
     "output_type": "stream",
     "text": [
      "1. a) The Ross textbook uses (i) and the numpy.random.exponential() function uses (ii)\n",
      "\n",
      "1. b) Simulation of 10000 values of Exp(2)\n"
     ]
    },
    {
     "data": {
      "image/png": "[encoded data removed]",
      "text/plain": [
       "<Figure size 432x288 with 1 Axes>"
      ]
     },
     "metadata": {
      "needs_background": "light"
     },
     "output_type": "display_data"
    },
    {
     "name": "stdout",
     "output_type": "stream",
     "text": [
      "1. c) Approximation of E[X]:  0.4880280758234814 \n",
      "\n",
      "This value is very close to their theoretical value of E[X], which is 0.5\n",
      "\n",
      "1. d) Approximation of P(X > 1):  0.1268 \n",
      "\n",
      "This value is very close to the theoretical value of P(X > 1), which is e^-2 ~ 0.135\n",
      "\n"
     ]
    }
   ],
   "source": [
    "print(\"1. a) The Ross textbook uses (i) and the numpy.random.exponential() function uses (ii)\\n\")\n",
    "\n",
    "import numpy as np\n",
    "import matplotlib.pyplot as plt\n",
    "\n",
    "N = 10000\n",
    "X = np.random.exponential(1/2,N) # try also other family such as normal, uniform, binomial etc.\n",
    "\n",
    "sum = 0\n",
    "for x in X:\n",
    "    sum += x\n",
    "\n",
    "print(\"1. b) Simulation of 10000 values of Exp(2)\")\n",
    "plt.figure(1)\n",
    "plt.hist(X, bins = 'auto', density = True)\n",
    "plt.show()\n",
    "\n",
    "print(\"1. c) Approximation of E[X]: \", sum/N, \"\\n\")\n",
    "print(\"This value is very close to their theoretical value of E[X], which is 0.5\\n\")\n",
    "\n",
    "\n",
    "count = 0\n",
    "for x in X:\n",
    "    if x > 1:\n",
    "        count = count + 1\n",
    "\n",
    "print(\"1. d) Approximation of P(X > 1): \", count/N,  \"\\n\")\n",
    "print(\"This value is very close to the theoretical value of P(X > 1), which is e^-2 ~ 0.135\\n\")"
   ]
  },
  {
   "cell_type": "markdown",
   "id": "45cf93d0-b2c4-4f1f-be24-b98fa41099e8",
   "metadata": {},
   "source": [
    "2. No, the sum of two independent Uniform(0,1) variables is not a Uniform random variable. This is because values in the middle of the distribution of the sum of the two random variables are more likely, since there are more ways to add up to those particular numbers. This is similar to the sum of two dice problem, where it can be seen that it is much less likely to get a sum of 2 or 12 than it is to get a sum of 7."
   ]
  },
  {
   "cell_type": "code",
   "execution_count": 16,
   "id": "cf12ea8f-6ad7-4814-9a1c-b9e0c1d67f54",
   "metadata": {},
   "outputs": [
    {
     "name": "stdout",
     "output_type": "stream",
     "text": [
      "Demonstration:\n"
     ]
    },
    {
     "data": {
      "image/png": "[encoded data removed]",
      "text/plain": [
       "<Figure size 432x288 with 1 Axes>"
      ]
     },
     "metadata": {
      "needs_background": "light"
     },
     "output_type": "display_data"
    }
   ],
   "source": [
    "N = 10000\n",
    "X = np.random.uniform(0, 1, N)\n",
    "Y = np.random.uniform(0, 1, N)\n",
    "\n",
    "print(\"Demonstration:\")\n",
    "plt.figure(1)\n",
    "plt.hist(X+Y, bins = 'auto', density = True)\n",
    "plt.show()"
   ]
  }
 ],
 "metadata": {
  "kernelspec": {
   "display_name": "Python 3",
   "language": "python",
   "name": "python3"
  },
  "language_info": {
   "codemirror_mode": {
    "name": "ipython",
    "version": 3
   },
   "file_extension": ".py",
   "mimetype": "text/x-python",
   "name": "python",
   "nbconvert_exporter": "python",
   "pygments_lexer": "ipython3",
   "version": "3.8.8"
  }
 },
 "nbformat": 4,
 "nbformat_minor": 5
}
