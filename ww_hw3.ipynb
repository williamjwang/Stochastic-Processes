{
 "cells": [
  {
   "cell_type": "markdown",
   "id": "06adb368-2b20-44c8-822f-4d5fa236b897",
   "metadata": {},
   "source": [
    "# William Wang Math 478 HW 3"
   ]
  },
  {
   "cell_type": "code",
   "execution_count": 1,
   "id": "35e33a23-6a64-4e41-aad6-9def2885f62c",
   "metadata": {},
   "outputs": [
    {
     "name": "stdout",
     "output_type": "stream",
     "text": [
      "Plot of max N:\n"
     ]
    },
    {
     "data": {
      "image/png": "[encoded data removed]",
      "text/plain": [
       "<Figure size 432x288 with 1 Axes>"
      ]
     },
     "metadata": {
      "needs_background": "light"
     },
     "output_type": "display_data"
    },
    {
     "name": "stdout",
     "output_type": "stream",
     "text": [
      "\n",
      "Theoretical Probability of P(X = 0), with L = 1:  0.36787944117144233\n",
      "Simulated Probability of P(X = 0), with L = 1:  0.36701\n",
      "\n",
      "Theoretical Probability of P(X = 1), with L = 1:  0.36787944117144233\n",
      "Simulated Probability of P(X = 1), with L = 1:  0.36647\n",
      "\n",
      "Theoretical Probability of P(X = 2), with L = 1:  0.18393972058572117\n",
      "Simulated Probability of P(X = 2), with L = 1:  0.18543\n",
      "\n",
      "Theoretical Probability of P(X = 3), with L = 1:  0.06131324019524039\n",
      "Simulated Probability of P(X = 3), with L = 1:  0.06173\n",
      "\n",
      "Theoretical Probability of P(X = 4), with L = 1:  0.015328310048810098\n",
      "Simulated Probability of P(X = 4), with L = 1:  0.01569\n",
      "\n",
      "Theoretical Probability of P(X = 5), with L = 1:  0.0030656620097620196\n",
      "Simulated Probability of P(X = 5), with L = 1:  0.00309\n",
      "\n",
      "Theoretical Probability of P(X = 6), with L = 1:  0.0005109436682936699\n",
      "Simulated Probability of P(X = 6), with L = 1:  0.00048\n",
      "\n",
      "Theoretical Probability of P(X = 7), with L = 1:  7.299195261338141e-05\n",
      "Simulated Probability of P(X = 7), with L = 1:  6e-05\n"
     ]
    }
   ],
   "source": [
    "import numpy as np\n",
    "import matplotlib.pyplot as plt\n",
    "import math\n",
    "\n",
    "#1.\n",
    "\n",
    "def maxN(L):\n",
    "    count = 0;\n",
    "    sum = 0\n",
    "    while (sum < 1):\n",
    "        sum += np.random.exponential(L)\n",
    "        if (sum < 1):\n",
    "            count += 1\n",
    "    return count\n",
    "    \n",
    "def simMaxN(L,N):\n",
    "    x = []\n",
    "    for i in range(N):\n",
    "        x.append(maxN(L))\n",
    "    return x\n",
    "\n",
    "def theoretical_prob_poisson(L, x):\n",
    "    return L**x * math.exp(-L) / math.factorial(x)\n",
    "\n",
    "def numXs(List, x):\n",
    "    numX = 0\n",
    "    for l in List:\n",
    "        if l == x:\n",
    "            numX += 1\n",
    "    return numX\n",
    "\n",
    "N = 100000\n",
    "X = simMaxN(1,N)\n",
    "\n",
    "print(\"Plot of max N:\")\n",
    "plt.figure(1)\n",
    "plt.hist(X, bins = 'auto', density = True)\n",
    "plt.show()\n",
    "\n",
    "print(\"\\nTheoretical Probability of P(X = 0), with L = 1: \", theoretical_prob_poisson(1,0))\n",
    "print(\"Simulated Probability of P(X = 0), with L = 1: \", numXs(X,0)/N)\n",
    "    \n",
    "print(\"\\nTheoretical Probability of P(X = 1), with L = 1: \", theoretical_prob_poisson(1,1))\n",
    "print(\"Simulated Probability of P(X = 1), with L = 1: \", numXs(X,1)/N)\n",
    "\n",
    "print(\"\\nTheoretical Probability of P(X = 2), with L = 1: \", theoretical_prob_poisson(1,2))\n",
    "print(\"Simulated Probability of P(X = 2), with L = 1: \", numXs(X,2)/N)\n",
    "\n",
    "print(\"\\nTheoretical Probability of P(X = 3), with L = 1: \", theoretical_prob_poisson(1,3))\n",
    "print(\"Simulated Probability of P(X = 3), with L = 1: \", numXs(X,3)/N)\n",
    "\n",
    "print(\"\\nTheoretical Probability of P(X = 4), with L = 1: \", theoretical_prob_poisson(1,4))\n",
    "print(\"Simulated Probability of P(X = 4), with L = 1: \", numXs(X,4)/N)\n",
    "\n",
    "print(\"\\nTheoretical Probability of P(X = 5), with L = 1: \", theoretical_prob_poisson(1,5))\n",
    "print(\"Simulated Probability of P(X = 5), with L = 1: \", numXs(X,5)/N)\n",
    "\n",
    "print(\"\\nTheoretical Probability of P(X = 6), with L = 1: \", theoretical_prob_poisson(1,6))\n",
    "print(\"Simulated Probability of P(X = 6), with L = 1: \", numXs(X,6)/N)\n",
    "\n",
    "print(\"\\nTheoretical Probability of P(X = 7), with L = 1: \", theoretical_prob_poisson(1,7))\n",
    "print(\"Simulated Probability of P(X = 7), with L = 1: \", numXs(X,7)/N)"
   ]
  },
  {
   "cell_type": "code",
   "execution_count": 2,
   "id": "4bf3ad38-6736-493c-81da-92ac93509178",
   "metadata": {},
   "outputs": [
    {
     "name": "stdout",
     "output_type": "stream",
     "text": [
      "\n",
      "Plot of X1 ~ Poisson(1):\n"
     ]
    },
    {
     "data": {
      "image/png": "[encoded data removed]",
      "text/plain": [
       "<Figure size 432x288 with 1 Axes>"
      ]
     },
     "metadata": {
      "needs_background": "light"
     },
     "output_type": "display_data"
    },
    {
     "name": "stdout",
     "output_type": "stream",
     "text": [
      "\n",
      "Plot of X2 ~ Poisson(2):\n"
     ]
    },
    {
     "data": {
      "image/png": "[encoded data removed]",
      "text/plain": [
       "<Figure size 432x288 with 1 Axes>"
      ]
     },
     "metadata": {
      "needs_background": "light"
     },
     "output_type": "display_data"
    },
    {
     "name": "stdout",
     "output_type": "stream",
     "text": [
      "\n",
      "Plot of X1 + X2:\n"
     ]
    },
    {
     "data": {
      "image/png": "[encoded data removed]",
      "text/plain": [
       "<Figure size 432x288 with 1 Axes>"
      ]
     },
     "metadata": {
      "needs_background": "light"
     },
     "output_type": "display_data"
    },
    {
     "name": "stdout",
     "output_type": "stream",
     "text": [
      "Average of X1 + X2: sum/N =  2.99106\n",
      "This makes sense, since the theoretical expected value E[X1 + X2] = 1 + 2 = 3\n"
     ]
    }
   ],
   "source": [
    "#2.\n",
    "\n",
    "N = 100000\n",
    "X1 = np.random.poisson(1, N)\n",
    "X2 = np.random.poisson(2, N)\n",
    "X3 = X1 + X2\n",
    "\n",
    "sum = 0\n",
    "for x3 in X3:\n",
    "    sum += x3\n",
    "    \n",
    "print(\"\\nPlot of X1 ~ Poisson(1):\")\n",
    "plt.figure(1)\n",
    "plt.hist(X1, bins = 'auto', density = True)\n",
    "plt.show()\n",
    "print(\"\\nPlot of X2 ~ Poisson(2):\")\n",
    "plt.figure(2)\n",
    "plt.hist(X2, bins = 'auto', density = True)\n",
    "plt.show()\n",
    "print(\"\\nPlot of X1 + X2:\")\n",
    "plt.figure(3)\n",
    "plt.hist(X1 + X2, bins = 'auto', density = True)\n",
    "plt.show()\n",
    "\n",
    "print(\"Average of X1 + X2: sum/N = \", sum/N)\n",
    "print(\"This makes sense, since the theoretical expected value E[X1 + X2] = 1 + 2 = 3\")"
   ]
  },
  {
   "cell_type": "code",
   "execution_count": 3,
   "id": "1c29473e-3b58-4b0f-8eb9-0181d84101b0",
   "metadata": {},
   "outputs": [
    {
     "name": "stdout",
     "output_type": "stream",
     "text": [
      "\n",
      "Plot of X ~ Normal(0,1):\n"
     ]
    },
    {
     "data": {
      "image/png": "[encoded data removed]",
      "text/plain": [
       "<Figure size 432x288 with 1 Axes>"
      ]
     },
     "metadata": {
      "needs_background": "light"
     },
     "output_type": "display_data"
    },
    {
     "name": "stdout",
     "output_type": "stream",
     "text": [
      "\n",
      "Plot of Z = {1 with probability 1/2, -1 with probability 1/2}:\n"
     ]
    },
    {
     "data": {
      "image/png": "[encoded data removed]",
      "text/plain": [
       "<Figure size 432x288 with 1 Axes>"
      ]
     },
     "metadata": {
      "needs_background": "light"
     },
     "output_type": "display_data"
    },
    {
     "name": "stdout",
     "output_type": "stream",
     "text": [
      "\n",
      "Plot of Y = XZ:\n"
     ]
    },
    {
     "data": {
      "image/png": "[encoded data removed]",
      "text/plain": [
       "<Figure size 432x288 with 1 Axes>"
      ]
     },
     "metadata": {
      "needs_background": "light"
     },
     "output_type": "display_data"
    }
   ],
   "source": [
    "#3.\n",
    "\n",
    "N = 100000\n",
    "X = np.random.normal(0,1,N)\n",
    "Z = []\n",
    "for i in range(N):\n",
    "    x = np.random.uniform(0, 1)\n",
    "    if x < 1/2:\n",
    "        Z.append(1)\n",
    "    else:\n",
    "        Z.append(-1)\n",
    "Y = X*Z\n",
    "\n",
    "print(\"\\nPlot of X ~ Normal(0,1):\")\n",
    "plt.figure(1)\n",
    "plt.hist(X, bins = 'auto', density = True)\n",
    "plt.show()\n",
    "print(\"\\nPlot of Z = {1 with probability 1/2, -1 with probability 1/2}:\")\n",
    "plt.figure(2)\n",
    "plt.hist(Z, bins = 'auto', density = True)\n",
    "plt.show()\n",
    "print(\"\\nPlot of Y = XZ:\")\n",
    "plt.figure(3)\n",
    "plt.hist(Y, bins = 'auto', density = True)\n",
    "plt.show()"
   ]
  },
  {
   "cell_type": "code",
   "execution_count": 21,
   "id": "38ed1cb0-a776-4346-83ad-378611654cd9",
   "metadata": {},
   "outputs": [
    {
     "name": "stdout",
     "output_type": "stream",
     "text": [
      "\n",
      "Plot of Y + X\n"
     ]
    },
    {
     "data": {
      "image/png": "[encoded data removed]",
      "text/plain": [
       "<Figure size 432x288 with 1 Axes>"
      ]
     },
     "metadata": {
      "needs_background": "light"
     },
     "output_type": "display_data"
    },
    {
     "name": "stdout",
     "output_type": "stream",
     "text": [
      "Note: the plot is very small, but it still can be seen that it is not normal.\n"
     ]
    }
   ],
   "source": [
    "N = 10000\n",
    "X = np.random.normal(0,1,N)\n",
    "Z = []\n",
    "for i in range(N):\n",
    "    x = np.random.uniform(0, 1)\n",
    "    if x < 1/2:\n",
    "        Z.append(1)\n",
    "    else:\n",
    "        Z.append(-1)\n",
    "Y = X*Z\n",
    "\n",
    "print(\"\\nPlot of Y + X\")\n",
    "plt.figure(4)\n",
    "plt.hist(X+Y, bins = 'auto', density = True)\n",
    "plt.show()\n",
    "print(\"Note: the plot is very small, but it still can be seen that it is not normal.\")"
   ]
  },
  {
   "cell_type": "code",
   "execution_count": null,
   "id": "1d4380ce-df7c-4d11-a30b-4bd8462788c7",
   "metadata": {},
   "outputs": [],
   "source": []
  }
 ],
 "metadata": {
  "kernelspec": {
   "display_name": "Python 3",
   "language": "python",
   "name": "python3"
  },
  "language_info": {
   "codemirror_mode": {
    "name": "ipython",
    "version": 3
   },
   "file_extension": ".py",
   "mimetype": "text/x-python",
   "name": "python",
   "nbconvert_exporter": "python",
   "pygments_lexer": "ipython3",
   "version": "3.8.8"
  }
 },
 "nbformat": 4,
 "nbformat_minor": 5
}
