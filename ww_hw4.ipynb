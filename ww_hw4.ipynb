{
 "cells": [
  {
   "cell_type": "markdown",
   "id": "2258dea8-776c-4054-b722-a35c25b7bc51",
   "metadata": {},
   "source": [
    "# William Wang Math 478 HW 4"
   ]
  },
  {
   "cell_type": "code",
   "execution_count": 1,
   "id": "5e3ac269-0849-40b1-b4ea-15195ca5a0db",
   "metadata": {},
   "outputs": [
    {
     "name": "stdout",
     "output_type": "stream",
     "text": [
      "Using X1,X2 ~ Bin(10,1/2), we show that the simulated probability P(X1 = 5 | X1 + X2) equals the theoretical probability of a hypergeometric RV (10, 10, 5, 5)\n",
      "Simulated probability:  0.3410289863293437\n",
      "Theoretical probability:  0.34371820130334063\n"
     ]
    }
   ],
   "source": [
    "import numpy as np\n",
    "import matplotlib.pyplot as plt\n",
    "import math\n",
    "\n",
    "#1.\n",
    "\n",
    "N = 100000\n",
    "n = 10\n",
    "p = 1/2\n",
    "X1 = np.random.binomial(n, p, N)\n",
    "X2 = np.random.binomial(n, p, N)\n",
    "Y = X1 + X2\n",
    "  \n",
    "def conditional_prob(X, Y, j, k):\n",
    "    sumk = 0\n",
    "    sumj = 0\n",
    "    for i in range(len(X)):\n",
    "        if Y[i] == k:\n",
    "            sumk += 1\n",
    "            if X[i] == j:\n",
    "                sumj += 1\n",
    "    return sumj/sumk\n",
    "\n",
    "def theoretical_hypergeometric(N1, N2, n1, n2):\n",
    "    return (math.factorial(N1)/(math.factorial(n1)*math.factorial(N1-n1)))*(math.factorial(N2)/(math.factorial(n2)*math.factorial(N2-n2))) / (math.factorial(N1+N2)/(math.factorial(n1+n2)*math.factorial(N1+N2-n1-n2)))\n",
    "\n",
    "print(\"Using X1,X2 ~ Bin(10,1/2), we show that the simulated probability P(X1 = 5 | X1 + X2) equals the theoretical probability of a hypergeometric RV (10, 10, 5, 5)\")\n",
    "print(\"Simulated probability: \", conditional_prob(X1, Y, 5, 10))\n",
    "print(\"Theoretical probability: \", theoretical_hypergeometric(10, 10, 5, 5))"
   ]
  },
  {
   "cell_type": "code",
   "execution_count": 2,
   "id": "705fe307-486c-412a-8b10-537936c5e9e8",
   "metadata": {},
   "outputs": [
    {
     "name": "stdout",
     "output_type": "stream",
     "text": [
      "Using X1 ~ Poisson(5) and X2 ~ Poisson(6), we show that the simulated probability P(X1 = 5 | X1 + X2 = 11) equals the theoretical probability of a Binomial RV (11, 5/11)\n",
      "Simulated probability:  0.23743989388161169\n",
      "Theoretical probability:  0.2360912887150679\n"
     ]
    }
   ],
   "source": [
    "#2.\n",
    "N = 100000\n",
    "\n",
    "X1 = np.random.poisson(5, N)\n",
    "X2 = np.random.poisson(6, N)\n",
    "Y = X1 + X2\n",
    "\n",
    "def conditional_prob(X, Y, j, k):\n",
    "    sumk = 0\n",
    "    sumj = 0\n",
    "    for i in range(len(X)):\n",
    "        if Y[i] == k:\n",
    "            sumk += 1\n",
    "            if X[i] == j:\n",
    "                sumj += 1\n",
    "    return sumj/sumk\n",
    "\n",
    "def theoretical_binomial(n,p,k):\n",
    "    return (math.factorial(n)/(math.factorial(k)*math.factorial(n-k))) * p**k * (1-p)**(n-k)\n",
    "\n",
    "print(\"Using X1 ~ Poisson(5) and X2 ~ Poisson(6), we show that the simulated probability P(X1 = 5 | X1 + X2 = 11) equals the theoretical probability of a Binomial RV (11, 5/11)\")\n",
    "print(\"Simulated probability: \", conditional_prob(X1, Y, 5, 11))\n",
    "#We know that X1 | X1 + X2 is approximately Bin(X1 + X2, L1/(L1+L2))\n",
    "print(\"Theoretical probability: \", theoretical_binomial(11, 5/11, 5))\n"
   ]
  },
  {
   "cell_type": "code",
   "execution_count": null,
   "id": "265fbf33-a322-4ca4-b716-db9b1b21f5f2",
   "metadata": {},
   "outputs": [],
   "source": []
  }
 ],
 "metadata": {
  "kernelspec": {
   "display_name": "Python 3",
   "language": "python",
   "name": "python3"
  },
  "language_info": {
   "codemirror_mode": {
    "name": "ipython",
    "version": 3
   },
   "file_extension": ".py",
   "mimetype": "text/x-python",
   "name": "python",
   "nbconvert_exporter": "python",
   "pygments_lexer": "ipython3",
   "version": "3.8.8"
  }
 },
 "nbformat": 4,
 "nbformat_minor": 5
}
