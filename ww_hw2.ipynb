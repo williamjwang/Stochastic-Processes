{
 "cells": [
  {
   "cell_type": "markdown",
   "id": "a3db6606-bb38-4860-a923-74eded3c608d",
   "metadata": {},
   "source": [
    "# William Wang Math 478 HW 2"
   ]
  },
  {
   "cell_type": "code",
   "execution_count": 2,
   "id": "43fdbda2-8b99-42c6-a16e-8be11d3c3ed2",
   "metadata": {},
   "outputs": [
    {
     "name": "stdout",
     "output_type": "stream",
     "text": [
      "1. a) Simulation:\n",
      "\n",
      "Plot of X:\n"
     ]
    },
    {
     "data": {
      "image/png": "[encoded data removed]",
      "text/plain": [
       "<Figure size 432x288 with 1 Axes>"
      ]
     },
     "metadata": {
      "needs_background": "light"
     },
     "output_type": "display_data"
    },
    {
     "name": "stdout",
     "output_type": "stream",
     "text": [
      "\n",
      "Plot of Y:\n"
     ]
    },
    {
     "data": {
      "image/png": "[encoded data removed]",
      "text/plain": [
       "<Figure size 432x288 with 1 Axes>"
      ]
     },
     "metadata": {
      "needs_background": "light"
     },
     "output_type": "display_data"
    },
    {
     "name": "stdout",
     "output_type": "stream",
     "text": [
      "\n",
      "Plot of min(x, y):\n"
     ]
    },
    {
     "data": {
      "image/png": "[encoded data removed]",
      "text/plain": [
       "<Figure size 432x288 with 1 Axes>"
      ]
     },
     "metadata": {
      "needs_background": "light"
     },
     "output_type": "display_data"
    },
    {
     "name": "stdout",
     "output_type": "stream",
     "text": [
      "Average of min(x, y): sum/N =  0.3247721445752686\n",
      "\n",
      "1. b) The theoretical expected value of an exponential RV with lambda = L3 is 1/(L1 + l2).\n",
      "Hence with parameters L1 = 1 and L2 = 2, our L3 = L1 + L2 = 3, and L3 is an exponential RV. So the expected value of L3 is 1/3.\n",
      "Our approximation of L3 is N/sum =  0.3247721445752686 which seems to agree.\n"
     ]
    }
   ],
   "source": [
    "import numpy as np\n",
    "import matplotlib.pyplot as plt\n",
    "\n",
    "N = 1000\n",
    "X = np.random.exponential(1/1,N) #Equivalent to Lambda = 1 in Ross\n",
    "Y = np.random.exponential(1/2,N) #Equivalent to Lambda = 2 in Ross\n",
    "\n",
    "Z = np.minimum(X, Y)\n",
    "\n",
    "sum = 0\n",
    "for z in Z:\n",
    "    sum += z\n",
    "\n",
    "print(\"1. a) Simulation:\")\n",
    "print(\"\\nPlot of X:\")\n",
    "plt.figure(1)\n",
    "plt.hist(X, bins = 'auto', density = True)\n",
    "plt.show()\n",
    "print(\"\\nPlot of Y:\")\n",
    "plt.figure(2)\n",
    "plt.hist(Y, bins = 'auto', density = True)\n",
    "plt.show()\n",
    "print(\"\\nPlot of min(x, y):\")\n",
    "plt.figure(3)\n",
    "plt.hist(Z, bins = 'auto', density = True)\n",
    "plt.show()\n",
    "\n",
    "print(\"Average of min(x, y): sum/N = \", sum/N)\n",
    "print(\"\\n1. b) The theoretical expected value of an exponential RV with lambda = L3 is 1/(L1 + l2).\")\n",
    "print(\"Hence with parameters L1 = 1 and L2 = 2, our L3 = L1 + L2 = 3, and L3 is an exponential RV. So the expected value of L3 is 1/3.\\nOur approximation of L3 is N/sum = \", sum/N, \"which seems to agree.\")"
   ]
  },
  {
   "cell_type": "code",
   "execution_count": 7,
   "id": "7cb5ed11-82c1-40b5-910e-2db67ac8e688",
   "metadata": {},
   "outputs": [
    {
     "name": "stdout",
     "output_type": "stream",
     "text": [
      "Theoretical Probability of P(X = 3), where X ~ Geometric(1/6):  0.11574074074074076\n",
      "Simulation estimate:  0.11660917537048833\n"
     ]
    }
   ],
   "source": [
    "#This function simulates P(X = K), with probability of success probSuccess, uniform interval U[minBound, maxBound], and N the number of uniform random variables\n",
    "def probKGeometric(K, probSuccess, minBound, maxBound, N):\n",
    "    count = 0\n",
    "    p = probSuccess\n",
    "    x = np.random.uniform(minBound, maxBound, N)\n",
    "    List = []\n",
    "    for i in range(len(x)):\n",
    "        if x[i] < p:\n",
    "            count = count + 1\n",
    "            List.append(count)\n",
    "            count = 0\n",
    "        else:\n",
    "            count = count + 1\n",
    "            \n",
    "    numKs = 0\n",
    "    for i in range(len(List)):\n",
    "        if List[i] == K:\n",
    "            numKs += 1\n",
    "    return numKs/len(List)\n",
    "\n",
    "test = probKGeometric(3, 1/6, 0, 1, 1000000)\n",
    "print(\"Theoretical Probability of P(X = 3), where X ~ Geometric(1/6): \", ((5/6)**2)*(1/6))\n",
    "print(\"Simulation estimate: \", test)"
   ]
  },
  {
   "cell_type": "code",
   "execution_count": 5,
   "id": "ce45b38d-4852-40d5-bfa5-76f77777b651",
   "metadata": {},
   "outputs": [
    {
     "name": "stdout",
     "output_type": "stream",
     "text": [
      "Theoretical Prob:  0.11574074074074076\n",
      "Simulated Prob:  0.1164\n"
     ]
    }
   ],
   "source": [
    "#See also\n",
    "import numpy as np\n",
    "\n",
    "def simulate_Geometric(p):\n",
    "    X = 1\n",
    "    while (np.random.uniform(0,1) >= p):\n",
    "        X = X + 1\n",
    "    return X\n",
    "\n",
    "def theoretical_prob(k, p):\n",
    "    return (1-p)**(k-1)*p\n",
    "\n",
    "def simulated_prob(k, p):\n",
    "    N = 10000\n",
    "    sum = 0\n",
    "    for i in range(N):\n",
    "        if simulate_Geometric(p) == k:\n",
    "            sum += 1\n",
    "    return sum/N\n",
    "\n",
    "k = 3\n",
    "p = 1/6\n",
    "print(\"Theoretical Prob: \", theoretical_prob(k,p))\n",
    "print(\"Simulated Prob: \", simulated_prob(k,p))"
   ]
  }
 ],
 "metadata": {
  "kernelspec": {
   "display_name": "Python 3",
   "language": "python",
   "name": "python3"
  },
  "language_info": {
   "codemirror_mode": {
    "name": "ipython",
    "version": 3
   },
   "file_extension": ".py",
   "mimetype": "text/x-python",
   "name": "python",
   "nbconvert_exporter": "python",
   "pygments_lexer": "ipython3",
   "version": "3.8.8"
  }
 },
 "nbformat": 4,
 "nbformat_minor": 5
}
