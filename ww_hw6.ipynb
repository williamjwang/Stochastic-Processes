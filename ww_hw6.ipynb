{
 "cells": [
  {
   "cell_type": "markdown",
   "id": "74468a53-88c0-4442-b9f2-fbdd0d7976eb",
   "metadata": {},
   "source": [
    "# William Wang Math 478 HW 6"
   ]
  },
  {
   "cell_type": "code",
   "execution_count": 1,
   "id": "f9a619ef-1289-405d-9ec7-7a7b09e806b1",
   "metadata": {},
   "outputs": [],
   "source": [
    "import numpy as np\n",
    "import matplotlib.pyplot as plt"
   ]
  },
  {
   "cell_type": "code",
   "execution_count": 2,
   "id": "64ad440f-c56b-4b5b-ac38-319549e2eb83",
   "metadata": {},
   "outputs": [
    {
     "name": "stdout",
     "output_type": "stream",
     "text": [
      "Simulated variance: 115.41923\n",
      "Theoretical Variance: 114.00000000000003\n"
     ]
    }
   ],
   "source": [
    "#1.\n",
    "\n",
    "def theoretical_expected(p):\n",
    "    return (1/p) + (1/p**2)\n",
    "\n",
    "def simulate_until_2_consecutive_heads(p):\n",
    "    previous = 0\n",
    "    current = 0\n",
    "    count = 0\n",
    "    while (previous == 0 or current == 0):\n",
    "        previous = current\n",
    "        temp = np.random.uniform(0,1)\n",
    "        count += 1\n",
    "        if temp < p:\n",
    "            current = 1\n",
    "        else:\n",
    "            current = 0\n",
    "    return count\n",
    "\n",
    "def simulateVariance(N, p):\n",
    "    sum = 0\n",
    "    for i in range(N):\n",
    "        x = simulate_until_2_consecutive_heads(p)        \n",
    "        sum += (x-theoretical_expected(p))**2\n",
    "    return sum/N\n",
    "\n",
    "def theoretical_variance(p):\n",
    "    return (1/p**4) + (2/p**3) - (2/p**2) - (1/p)\n",
    "\n",
    "print(\"Simulated variance:\", simulateVariance(100000, 1/3))\n",
    "print(\"Theoretical Variance:\", theoretical_variance(1/3))"
   ]
  },
  {
   "cell_type": "code",
   "execution_count": 3,
   "id": "23efa5f4-3209-4d2a-bf28-f4b0952e44a1",
   "metadata": {},
   "outputs": [
    {
     "name": "stdout",
     "output_type": "stream",
     "text": [
      "Simulated variance:  1002.7025008361578\n",
      "theoretical_variance:  1000.0\n"
     ]
    }
   ],
   "source": [
    "#2.\n",
    "\n",
    "def theoretical_expected(poissonL, expL):\n",
    "    return poissonL * (1/expL)\n",
    "\n",
    "def simulation(poissonL, expL):\n",
    "    N = np.random.poisson(poissonL)\n",
    "    X = np.random.exponential(1/expL, N)\n",
    "    sum = 0\n",
    "    for x in X:\n",
    "        sum += x\n",
    "    return sum\n",
    "\n",
    "def simulateVariance(N, poissonL, expL):\n",
    "    sum = 0\n",
    "    for i in range(N):\n",
    "        x = simulation(poissonL, expL)\n",
    "        sum += (x-theoretical_expected(poissonL, expL))**2\n",
    "    return sum/N\n",
    "\n",
    "def theoretical_variance(poissonL, expL):\n",
    "    return poissonL*((1/expL)**2) + poissonL*((1/expL)**2)\n",
    "\n",
    "print(\"Simulated variance: \", simulateVariance(100000, 20, 1/5))\n",
    "print(\"theoretical_variance: \", theoretical_variance(20, 1/5))"
   ]
  }
 ],
 "metadata": {
  "kernelspec": {
   "display_name": "Python 3",
   "language": "python",
   "name": "python3"
  },
  "language_info": {
   "codemirror_mode": {
    "name": "ipython",
    "version": 3
   },
   "file_extension": ".py",
   "mimetype": "text/x-python",
   "name": "python",
   "nbconvert_exporter": "python",
   "pygments_lexer": "ipython3",
   "version": "3.8.8"
  }
 },
 "nbformat": 4,
 "nbformat_minor": 5
}
